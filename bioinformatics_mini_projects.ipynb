{
  "cells": [
    {
      "cell_type": "markdown",
      "source": [
        "## gc content in dna"
      ],
      "metadata": {
        "id": "Tt5Lg1-z5cTg"
      }
    },
    {
      "cell_type": "code",
      "source": [
        "def gc_content(dna_sequence):\n",
        "  \"\"\"\n",
        "  This function calculates the GC content of a DNA sequence.\n",
        "\n",
        "  Args:\n",
        "    dna_sequence: A string of DNA nucleotides.\n",
        "\n",
        "  Returns:\n",
        "    The GC content of the DNA sequence, as a float.\n",
        "  \"\"\"\n",
        "\n",
        "  gc_count = 0\n",
        "  for nucleotide in dna_sequence:\n",
        "    if nucleotide == \"G\" or nucleotide == \"C\":\n",
        "      gc_count += 1\n",
        "\n",
        "  gc_content = gc_count / len(dna_sequence) * 100\n",
        "  return gc_content\n",
        "\n",
        "\n",
        "dna_sequence =\"\"\"AATTCGATAGCTAGAAGTAGACCCAAAATATACCATAGGGGCATAGCATAGCAGTAGAC\"\"\"\n",
        "\n",
        "\n",
        "gc_content = gc_content(dna_sequence)\n",
        "print(gc_content)"
      ],
      "outputs": [
        {
          "output_type": "stream",
          "name": "stdout",
          "text": [
            "40.67796610169492\n"
          ]
        }
      ],
      "execution_count": 18,
      "metadata": {
        "colab": {
          "base_uri": "https://localhost:8080/"
        },
        "id": "SdmFUARmwszt",
        "outputId": "c1857487-4df9-4ebf-d99f-043b3fb7e0a4"
      }
    },
    {
      "cell_type": "markdown",
      "source": [
        "This code first defines a function called `gc_content()`, which takes a DNA sequence as input and returns the GC content of the sequence. The function works by first counting the number of \"G\" and \"C\" nucleotides in the sequence. It then divides this number by the length of the sequence and multiplies by 100 to get the GC content as a percentage.\n",
        "\n",
        "The code then assigns the DNA sequence \"ACGTACGTACGT\" to the variable `dna_sequence`. It then calls the `gc_content()` function with `dna_sequence` as the input. The output of the function is then printed to the console.\n",
        "\n"
      ],
      "metadata": {
        "id": "sWvUDAGnwszw"
      }
    },
    {
      "cell_type": "markdown",
      "source": [
        "## dna to protein"
      ],
      "metadata": {
        "id": "9GJV291j5tdo"
      }
    },
    {
      "cell_type": "code",
      "source": [
        "def dna_to_protein(dna):\n",
        "  \"\"\"\n",
        "  Converts a DNA sequence to a protein sequence.\n",
        "\n",
        "  Args:\n",
        "    dna: The DNA sequence, as a string.\n",
        "\n",
        "  Returns:\n",
        "    The protein sequence, as a string.\n",
        "  \"\"\"\n",
        "\n",
        "  codons = {\n",
        "      'AAA': 'K',\n",
        "      'AAC': 'N',\n",
        "      'AAG': 'K',\n",
        "      'AAT': 'N',\n",
        "      'ACA': 'T',\n",
        "      'ACC': 'T',\n",
        "      'ACG': 'T',\n",
        "      'ACT': 'T',\n",
        "      'AGA': 'R',\n",
        "      'AGC': 'S',\n",
        "      'AGG': 'R',\n",
        "      'AGT': 'S',\n",
        "      'ATA': 'I',\n",
        "      'ATC': 'I',\n",
        "      'ATG': 'M',\n",
        "      'ATT': 'I',\n",
        "      'CAA': 'Q',\n",
        "      'CAC': 'H',\n",
        "      'CAG': 'Q',\n",
        "      'CAT': 'H',\n",
        "      'CCA': 'P',\n",
        "      'CCC': 'P',\n",
        "      'CCG': 'P',\n",
        "      'CCT': 'P',\n",
        "      'CGA': 'R',\n",
        "      'CGC': 'R',\n",
        "      'CGG': 'R',\n",
        "      'CGT': 'R',\n",
        "      'CTA': 'L',\n",
        "      'CTC': 'L',\n",
        "      'CTG': 'L',\n",
        "      'CTT': 'L',\n",
        "      'GAA': 'E',\n",
        "      'GAC': 'D',\n",
        "      'GAG': 'E',\n",
        "      'GAT': 'D',\n",
        "      'GCA': 'A',\n",
        "      'GCC': 'A',\n",
        "      'GCG': 'A',\n",
        "      'GCT': 'A',\n",
        "      'GGA': 'G',\n",
        "      'GGC': 'G',\n",
        "      'GGG': 'G',\n",
        "      'GGT': 'G',\n",
        "      'GTA': 'V',\n",
        "      'GTC': 'V',\n",
        "      'GTG': 'V',\n",
        "      'GTT': 'V',\n",
        "      'TAA': '*',\n",
        "      'TAC': 'Y',\n",
        "      'TAG': '*',\n",
        "      'TAT': 'Y',\n",
        "      'TCA': 'S',\n",
        "      'TCC': 'S',\n",
        "      'TCG': 'S',\n",
        "      'TCT': 'S',\n",
        "      'TGA': '*',\n",
        "      'TGC': 'C',\n",
        "      'TGG': 'W',\n",
        "      'TGT': 'C',\n",
        "      'TTA': 'L',\n",
        "      'TTC': 'F',\n",
        "      'TTG': 'L',\n",
        "      'TTT': 'F',\n",
        "  }\n",
        "\n",
        "  protein = ''\n",
        "  for i in range(0, len(dna), 3):\n",
        "    codon = dna[i:i + 3]\n",
        "    protein += codons[codon]\n",
        "  else:\n",
        "    protein += '?'\n",
        "\n",
        "  return protein\n",
        "\n",
        "\n",
        "def main():\n",
        "  dna=\"\"\"ATTCTGCCCTCGAGCCCACCGGGAACGAAAGAGAAGCTCTATCTCCCCTCCAGGAGCCCAGCTATGAAC\"\"\"\n",
        "\n",
        "  protein = dna_to_protein(dna)\n",
        "  print(protein + dna_to_protein(dna))\n",
        "\n",
        "\n",
        "if __name__ == '__main__':\n",
        "  main()\n"
      ],
      "metadata": {
        "colab": {
          "base_uri": "https://localhost:8080/"
        },
        "id": "02p6ZSqg1tbY",
        "outputId": "6adef37a-0441-4d82-f084-c6f3627167e4"
      },
      "execution_count": 20,
      "outputs": [
        {
          "output_type": "stream",
          "name": "stdout",
          "text": [
            "ILPSSPPGTKEKLYLPSRSPAMN?ILPSSPPGTKEKLYLPSRSPAMN?\n"
          ]
        }
      ]
    },
    {
      "cell_type": "markdown",
      "source": [
        "This code first creates a dictionary that maps each codon to its corresponding amino acid. Then, it takes the DNA sequence as input and iterates over it, three nucleotides at a time. For each codon, it looks up the corresponding amino acid in the dictionary and adds it to the protein sequence. Finally, it prints the protein sequence."
      ],
      "metadata": {
        "id": "nWE218ay3c7M"
      }
    },
    {
      "cell_type": "markdown",
      "source": [
        "## dna to rna"
      ],
      "metadata": {
        "id": "ZCHt56Fm35xk"
      }
    },
    {
      "cell_type": "code",
      "source": [
        "def dna_to_rna(dna_sequence):\n",
        "  \"\"\"\n",
        "  Converts a DNA sequence to RNA sequence.\n",
        "\n",
        "  Args:\n",
        "    dna_sequence: A string of DNA nucleotides.\n",
        "\n",
        "  Returns:\n",
        "    A string of RNA nucleotides.\n",
        "  \"\"\"\n",
        "\n",
        "  rna_sequence = \"\"\n",
        "  for nucleotide in dna_sequence:\n",
        "    if nucleotide == \"A\":\n",
        "      rna_sequence += \"U\"\n",
        "    elif nucleotide == \"C\":\n",
        "      rna_sequence += \"G\"\n",
        "    elif nucleotide == \"G\":\n",
        "      rna_sequence += \"C\"\n",
        "    elif nucleotide == \"T\":\n",
        "      rna_sequence += \"A\"\n",
        "  return rna_sequence\n",
        "\n",
        "\n",
        "def main():\n",
        "  dna_sequence = \"ATTCTGCCCTCGAGCCCACCGGGAACGAAAGAGAAGCTCTATCTCCCCTCCAGGAGCCCAGCTATGAAC\"\n",
        "  rna_sequence = dna_to_rna(dna_sequence)\n",
        "  print(rna_sequence)\n",
        "\n",
        "if __name__ == \"__main__\":\n",
        "  main()\n",
        "\n"
      ],
      "metadata": {
        "colab": {
          "base_uri": "https://localhost:8080/"
        },
        "id": "JEK8Iehy1u9_",
        "outputId": "ef8585a1-6bbd-4e42-a4ea-7c7705dace41"
      },
      "execution_count": 21,
      "outputs": [
        {
          "output_type": "stream",
          "name": "stdout",
          "text": [
            "UAAGACGGGAGCUCGGGUGGCCCUUGCUUUCUCUUCGAGAUAGAGGGGAGGUCCUCGGGUCGAUACUUG\n"
          ]
        }
      ]
    },
    {
      "cell_type": "markdown",
      "source": [
        "This code first defines a function called dna_to_rna(), which takes a DNA sequence as input and returns the corresponding RNA sequence. The function works by iterating over the DNA sequence and replacing each \"T\" with a \"U\".\n",
        "\n",
        "The main function then defines a DNA sequence and calls the dna_to_rna() function to convert it to RNA. The result is then printed to the console."
      ],
      "metadata": {
        "id": "xZM4m0Vo4DFy"
      }
    },
    {
      "cell_type": "markdown",
      "source": [
        "## rna to protein"
      ],
      "metadata": {
        "id": "QQ0QJSyt43Zv"
      }
    },
    {
      "cell_type": "code",
      "source": [
        "def rna_to_dna(dna_sequence):\n",
        "  \"\"\"\n",
        "  Converts a RNA sequence to DNA sequence.\n",
        "\n",
        "  Args:\n",
        "    dna_sequence: A string of RNA nucleotides.\n",
        "\n",
        "  Returns:\n",
        "    A string of DNA nucleotides.\n",
        "  \"\"\"\n",
        "\n",
        "  rna_sequence = \"\"\n",
        "  for nucleotide in rna_sequence:\n",
        "    if nucleotide == \"U\":\n",
        "      dna_sequence += \"A\"\n",
        "    elif nucleotide == \"C\":\n",
        "      dna_sequence += \"G\"\n",
        "    elif nucleotide == \"G\":\n",
        "      dna_sequence += \"C\"\n",
        "    elif nucleotide == \"A\":\n",
        "      dna_sequence += \"T\"\n",
        "  return dna_sequence\n",
        "\n",
        "\n",
        "def main():\n",
        "  rna_sequence = \"UAAGACGGGAGCUCGGGUGGCCCUUGCUUUCUCUUCGAGAUAGAGGGGAGGUCCUCGGGUCGAUACUUG\"\n",
        "  rna_sequence = rna_to_dna(rna_sequence)\n",
        "  print(dna_sequence)\n",
        "\n",
        "if __name__ == \"__main__\":\n",
        "  main()"
      ],
      "metadata": {
        "id": "aaILTFou41hv",
        "colab": {
          "base_uri": "https://localhost:8080/"
        },
        "outputId": "375fd209-b960-414c-b00e-7353516965c7"
      },
      "execution_count": 27,
      "outputs": [
        {
          "output_type": "stream",
          "name": "stdout",
          "text": [
            "AATTCGATAGCTAGAAGTAGACCCAAAATATACCATAGGGGCATAGCATAGCAGTAGAC\n"
          ]
        }
      ]
    },
    {
      "cell_type": "code",
      "source": [],
      "metadata": {
        "id": "tIj6arHo8ra7"
      },
      "execution_count": null,
      "outputs": []
    }
  ],
  "metadata": {
    "colab": {
      "provenance": []
    },
    "kernelspec": {
      "display_name": "Python 3",
      "name": "python3"
    }
  },
  "nbformat": 4,
  "nbformat_minor": 0
}